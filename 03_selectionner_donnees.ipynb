{
 "cells": [
  {
   "cell_type": "markdown",
   "id": "d6f32afa-3e5f-4087-82da-6e2dcfe937ef",
   "metadata": {},
   "source": [
    "# Comment récupérer des données précise à l'intérieur de notre dataframe"
   ]
  },
  {
   "cell_type": "code",
   "execution_count": 1,
   "id": "abe06403-1e1f-4e64-90c4-a09dfcd623c8",
   "metadata": {},
   "outputs": [],
   "source": [
    "import pandas as pd\n",
    "df = pd.read_csv(\"data.csv\")"
   ]
  },
  {
   "cell_type": "code",
   "execution_count": 2,
   "id": "eb0a3fe8-f52d-4490-9f17-cd31e9815b74",
   "metadata": {},
   "outputs": [
    {
     "data": {
      "text/html": [
       "<div>\n",
       "<style scoped>\n",
       "    .dataframe tbody tr th:only-of-type {\n",
       "        vertical-align: middle;\n",
       "    }\n",
       "\n",
       "    .dataframe tbody tr th {\n",
       "        vertical-align: top;\n",
       "    }\n",
       "\n",
       "    .dataframe thead th {\n",
       "        text-align: right;\n",
       "    }\n",
       "</style>\n",
       "<table border=\"1\" class=\"dataframe\">\n",
       "  <thead>\n",
       "    <tr style=\"text-align: right;\">\n",
       "      <th></th>\n",
       "      <th>id</th>\n",
       "      <th>date</th>\n",
       "      <th>first_name</th>\n",
       "      <th>last_name</th>\n",
       "      <th>email</th>\n",
       "      <th>gender</th>\n",
       "      <th>ip_address</th>\n",
       "      <th>country</th>\n",
       "      <th>price_paid</th>\n",
       "      <th>tax</th>\n",
       "    </tr>\n",
       "  </thead>\n",
       "  <tbody>\n",
       "    <tr>\n",
       "      <th>0</th>\n",
       "      <td>1</td>\n",
       "      <td>03/28/2021</td>\n",
       "      <td>Marylin</td>\n",
       "      <td>Alders</td>\n",
       "      <td>malders0@shop-pro.jp</td>\n",
       "      <td>Male</td>\n",
       "      <td>160.119.8.119</td>\n",
       "      <td>Canada</td>\n",
       "      <td>$5.36</td>\n",
       "      <td>NaN</td>\n",
       "    </tr>\n",
       "    <tr>\n",
       "      <th>1</th>\n",
       "      <td>2</td>\n",
       "      <td>03/19/2021</td>\n",
       "      <td>Hinda</td>\n",
       "      <td>Harridge</td>\n",
       "      <td>hharridge1@gnu.org</td>\n",
       "      <td>Female</td>\n",
       "      <td>210.51.172.132</td>\n",
       "      <td>Canada</td>\n",
       "      <td>$8.32</td>\n",
       "      <td>NaN</td>\n",
       "    </tr>\n",
       "    <tr>\n",
       "      <th>2</th>\n",
       "      <td>3</td>\n",
       "      <td>03/17/2021</td>\n",
       "      <td>Erl</td>\n",
       "      <td>Kilminster</td>\n",
       "      <td>ekilminster2@etsy.com</td>\n",
       "      <td>Male</td>\n",
       "      <td>213.8.101.145</td>\n",
       "      <td>United States</td>\n",
       "      <td>$3.73</td>\n",
       "      <td>20.0</td>\n",
       "    </tr>\n",
       "    <tr>\n",
       "      <th>3</th>\n",
       "      <td>4</td>\n",
       "      <td>03/19/2021</td>\n",
       "      <td>Grata</td>\n",
       "      <td>Brantl</td>\n",
       "      <td>gbrantl3@umn.edu</td>\n",
       "      <td>Female</td>\n",
       "      <td>5.140.237.101</td>\n",
       "      <td>United States</td>\n",
       "      <td>$3.70</td>\n",
       "      <td>20.0</td>\n",
       "    </tr>\n",
       "    <tr>\n",
       "      <th>4</th>\n",
       "      <td>5</td>\n",
       "      <td>03/24/2021</td>\n",
       "      <td>Kanya</td>\n",
       "      <td>Beasant</td>\n",
       "      <td>kbeasant4@jigsy.com</td>\n",
       "      <td>Male</td>\n",
       "      <td>106.252.162.233</td>\n",
       "      <td>Morocco</td>\n",
       "      <td>$9.24</td>\n",
       "      <td>20.0</td>\n",
       "    </tr>\n",
       "  </tbody>\n",
       "</table>\n",
       "</div>"
      ],
      "text/plain": [
       "   id        date first_name   last_name                  email  gender  \\\n",
       "0   1  03/28/2021    Marylin      Alders   malders0@shop-pro.jp    Male   \n",
       "1   2  03/19/2021      Hinda    Harridge     hharridge1@gnu.org  Female   \n",
       "2   3  03/17/2021        Erl  Kilminster  ekilminster2@etsy.com    Male   \n",
       "3   4  03/19/2021      Grata      Brantl       gbrantl3@umn.edu  Female   \n",
       "4   5  03/24/2021      Kanya     Beasant    kbeasant4@jigsy.com    Male   \n",
       "\n",
       "        ip_address        country price_paid   tax  \n",
       "0    160.119.8.119         Canada      $5.36   NaN  \n",
       "1   210.51.172.132         Canada      $8.32   NaN  \n",
       "2    213.8.101.145  United States      $3.73  20.0  \n",
       "3    5.140.237.101  United States      $3.70  20.0  \n",
       "4  106.252.162.233        Morocco      $9.24  20.0  "
      ]
     },
     "execution_count": 2,
     "metadata": {},
     "output_type": "execute_result"
    }
   ],
   "source": [
    "df.head()"
   ]
  },
  {
   "cell_type": "code",
   "execution_count": 3,
   "id": "f182eeea-cecd-4f98-991d-8b69a8b8065b",
   "metadata": {},
   "outputs": [
    {
     "data": {
      "text/plain": [
       "0     malders0@shop-pro.jp\n",
       "1       hharridge1@gnu.org\n",
       "2    ekilminster2@etsy.com\n",
       "3         gbrantl3@umn.edu\n",
       "4      kbeasant4@jigsy.com\n",
       "Name: email, dtype: object"
      ]
     },
     "execution_count": 3,
     "metadata": {},
     "output_type": "execute_result"
    }
   ],
   "source": [
    "# pour afficher juste la colonne \"email\"\n",
    "df[\"email\"].head()"
   ]
  },
  {
   "cell_type": "code",
   "execution_count": 4,
   "id": "661650db-a83e-4f7c-ac51-0f1b54c1efff",
   "metadata": {},
   "outputs": [
    {
     "data": {
      "text/plain": [
       "0     malders0@shop-pro.jp\n",
       "1       hharridge1@gnu.org\n",
       "2    ekilminster2@etsy.com\n",
       "3         gbrantl3@umn.edu\n",
       "4      kbeasant4@jigsy.com\n",
       "Name: email, dtype: object"
      ]
     },
     "execution_count": 4,
     "metadata": {},
     "output_type": "execute_result"
    }
   ],
   "source": [
    "# on obtient la meme chose en faisant\n",
    "df.email.head()"
   ]
  },
  {
   "cell_type": "code",
   "execution_count": 5,
   "id": "7e7c78e0-2035-4a0b-9104-a9568f4633e7",
   "metadata": {},
   "outputs": [
    {
     "data": {
      "text/plain": [
       "pandas.core.frame.DataFrame"
      ]
     },
     "execution_count": 5,
     "metadata": {},
     "output_type": "execute_result"
    }
   ],
   "source": [
    "# connaitre le type de mon tableau\n",
    "type(df)"
   ]
  },
  {
   "cell_type": "code",
   "execution_count": 7,
   "id": "a7825864-c8eb-4a0d-ae6a-e9a0737ab304",
   "metadata": {},
   "outputs": [
    {
     "data": {
      "text/plain": [
       "pandas.core.series.Series"
      ]
     },
     "execution_count": 7,
     "metadata": {},
     "output_type": "execute_result"
    }
   ],
   "source": [
    "# on a ici le type serie c-à-d colonne\n",
    "type(df.email)"
   ]
  },
  {
   "cell_type": "code",
   "execution_count": 8,
   "id": "f4272f63-52a7-45d7-a6f1-ab244200d35f",
   "metadata": {},
   "outputs": [
    {
     "data": {
      "text/html": [
       "<div>\n",
       "<style scoped>\n",
       "    .dataframe tbody tr th:only-of-type {\n",
       "        vertical-align: middle;\n",
       "    }\n",
       "\n",
       "    .dataframe tbody tr th {\n",
       "        vertical-align: top;\n",
       "    }\n",
       "\n",
       "    .dataframe thead th {\n",
       "        text-align: right;\n",
       "    }\n",
       "</style>\n",
       "<table border=\"1\" class=\"dataframe\">\n",
       "  <thead>\n",
       "    <tr style=\"text-align: right;\">\n",
       "      <th></th>\n",
       "      <th>id</th>\n",
       "      <th>date</th>\n",
       "      <th>first_name</th>\n",
       "      <th>last_name</th>\n",
       "      <th>email</th>\n",
       "      <th>gender</th>\n",
       "      <th>ip_address</th>\n",
       "      <th>country</th>\n",
       "      <th>price_paid</th>\n",
       "      <th>tax</th>\n",
       "    </tr>\n",
       "  </thead>\n",
       "  <tbody>\n",
       "    <tr>\n",
       "      <th>10</th>\n",
       "      <td>11</td>\n",
       "      <td>03/11/2021</td>\n",
       "      <td>Lief</td>\n",
       "      <td>Woodcraft</td>\n",
       "      <td>lwoodcrafta@sitemeter.com</td>\n",
       "      <td>Male</td>\n",
       "      <td>201.76.240.51</td>\n",
       "      <td>Canada</td>\n",
       "      <td>$5.71</td>\n",
       "      <td>NaN</td>\n",
       "    </tr>\n",
       "    <tr>\n",
       "      <th>11</th>\n",
       "      <td>12</td>\n",
       "      <td>03/16/2021</td>\n",
       "      <td>Bailie</td>\n",
       "      <td>Wyman</td>\n",
       "      <td>bwymanb@lulu.com</td>\n",
       "      <td>Male</td>\n",
       "      <td>222.60.138.222</td>\n",
       "      <td>United States</td>\n",
       "      <td>$3.15</td>\n",
       "      <td>20.0</td>\n",
       "    </tr>\n",
       "    <tr>\n",
       "      <th>12</th>\n",
       "      <td>13</td>\n",
       "      <td>03/05/2021</td>\n",
       "      <td>Janice</td>\n",
       "      <td>Morillas</td>\n",
       "      <td>jmorillasc@miibeian.gov.cn</td>\n",
       "      <td>Female</td>\n",
       "      <td>24.25.198.252</td>\n",
       "      <td>Canada</td>\n",
       "      <td>$5.30</td>\n",
       "      <td>20.0</td>\n",
       "    </tr>\n",
       "    <tr>\n",
       "      <th>13</th>\n",
       "      <td>14</td>\n",
       "      <td>03/24/2021</td>\n",
       "      <td>Cull</td>\n",
       "      <td>Vassie</td>\n",
       "      <td>cvassied@unblog.fr</td>\n",
       "      <td>NaN</td>\n",
       "      <td>18.203.61.94</td>\n",
       "      <td>France</td>\n",
       "      <td>$5.97</td>\n",
       "      <td>20.0</td>\n",
       "    </tr>\n",
       "    <tr>\n",
       "      <th>14</th>\n",
       "      <td>15</td>\n",
       "      <td>03/21/2021</td>\n",
       "      <td>Oralie</td>\n",
       "      <td>Maryon</td>\n",
       "      <td>omaryone@va.gov</td>\n",
       "      <td>Female</td>\n",
       "      <td>215.248.16.198</td>\n",
       "      <td>United States</td>\n",
       "      <td>$4.53</td>\n",
       "      <td>20.0</td>\n",
       "    </tr>\n",
       "    <tr>\n",
       "      <th>15</th>\n",
       "      <td>16</td>\n",
       "      <td>03/24/2021</td>\n",
       "      <td>Julina</td>\n",
       "      <td>Faint</td>\n",
       "      <td>jfaintf@amazon.co.jp</td>\n",
       "      <td>Female</td>\n",
       "      <td>96.193.4.151</td>\n",
       "      <td>United States</td>\n",
       "      <td>$4.10</td>\n",
       "      <td>20.0</td>\n",
       "    </tr>\n",
       "    <tr>\n",
       "      <th>16</th>\n",
       "      <td>17</td>\n",
       "      <td>03/27/2021</td>\n",
       "      <td>Eve</td>\n",
       "      <td>Allaway</td>\n",
       "      <td>eallawayg@ebay.co.uk</td>\n",
       "      <td>Female</td>\n",
       "      <td>184.107.59.156</td>\n",
       "      <td>United States</td>\n",
       "      <td>$6.44</td>\n",
       "      <td>20.0</td>\n",
       "    </tr>\n",
       "    <tr>\n",
       "      <th>17</th>\n",
       "      <td>18</td>\n",
       "      <td>03/20/2021</td>\n",
       "      <td>Esta</td>\n",
       "      <td>Boulden</td>\n",
       "      <td>ebouldenh@posterous.com</td>\n",
       "      <td>NaN</td>\n",
       "      <td>220.109.140.190</td>\n",
       "      <td>United States</td>\n",
       "      <td>$3.16</td>\n",
       "      <td>20.0</td>\n",
       "    </tr>\n",
       "    <tr>\n",
       "      <th>18</th>\n",
       "      <td>19</td>\n",
       "      <td>03/16/2021</td>\n",
       "      <td>Judye</td>\n",
       "      <td>Behan</td>\n",
       "      <td>jbehani@google.es</td>\n",
       "      <td>Female</td>\n",
       "      <td>27.196.2.18</td>\n",
       "      <td>France</td>\n",
       "      <td>$4.90</td>\n",
       "      <td>20.0</td>\n",
       "    </tr>\n",
       "    <tr>\n",
       "      <th>19</th>\n",
       "      <td>20</td>\n",
       "      <td>03/01/2021</td>\n",
       "      <td>Sibeal</td>\n",
       "      <td>Mounch</td>\n",
       "      <td>smounchj@rakuten.co.jp</td>\n",
       "      <td>Male</td>\n",
       "      <td>218.17.7.177</td>\n",
       "      <td>Canada</td>\n",
       "      <td>$5.82</td>\n",
       "      <td>20.0</td>\n",
       "    </tr>\n",
       "  </tbody>\n",
       "</table>\n",
       "</div>"
      ],
      "text/plain": [
       "    id        date first_name  last_name                       email  gender  \\\n",
       "10  11  03/11/2021       Lief  Woodcraft   lwoodcrafta@sitemeter.com    Male   \n",
       "11  12  03/16/2021     Bailie      Wyman            bwymanb@lulu.com    Male   \n",
       "12  13  03/05/2021     Janice   Morillas  jmorillasc@miibeian.gov.cn  Female   \n",
       "13  14  03/24/2021       Cull     Vassie          cvassied@unblog.fr     NaN   \n",
       "14  15  03/21/2021     Oralie     Maryon             omaryone@va.gov  Female   \n",
       "15  16  03/24/2021     Julina      Faint        jfaintf@amazon.co.jp  Female   \n",
       "16  17  03/27/2021        Eve    Allaway        eallawayg@ebay.co.uk  Female   \n",
       "17  18  03/20/2021       Esta    Boulden     ebouldenh@posterous.com     NaN   \n",
       "18  19  03/16/2021      Judye      Behan           jbehani@google.es  Female   \n",
       "19  20  03/01/2021     Sibeal     Mounch      smounchj@rakuten.co.jp    Male   \n",
       "\n",
       "         ip_address        country price_paid   tax  \n",
       "10    201.76.240.51         Canada      $5.71   NaN  \n",
       "11   222.60.138.222  United States      $3.15  20.0  \n",
       "12    24.25.198.252         Canada      $5.30  20.0  \n",
       "13     18.203.61.94         France      $5.97  20.0  \n",
       "14   215.248.16.198  United States      $4.53  20.0  \n",
       "15     96.193.4.151  United States      $4.10  20.0  \n",
       "16   184.107.59.156  United States      $6.44  20.0  \n",
       "17  220.109.140.190  United States      $3.16  20.0  \n",
       "18      27.196.2.18         France      $4.90  20.0  \n",
       "19     218.17.7.177         Canada      $5.82  20.0  "
      ]
     },
     "execution_count": 8,
     "metadata": {},
     "output_type": "execute_result"
    }
   ],
   "source": [
    "# pour recuperer par exple les elements de 10 à 20 du tableau \n",
    "df[10:20]"
   ]
  },
  {
   "cell_type": "code",
   "execution_count": 9,
   "id": "27dd1343-a643-4162-a779-56fb5dc1beb1",
   "metadata": {},
   "outputs": [
    {
     "data": {
      "text/html": [
       "<div>\n",
       "<style scoped>\n",
       "    .dataframe tbody tr th:only-of-type {\n",
       "        vertical-align: middle;\n",
       "    }\n",
       "\n",
       "    .dataframe tbody tr th {\n",
       "        vertical-align: top;\n",
       "    }\n",
       "\n",
       "    .dataframe thead th {\n",
       "        text-align: right;\n",
       "    }\n",
       "</style>\n",
       "<table border=\"1\" class=\"dataframe\">\n",
       "  <thead>\n",
       "    <tr style=\"text-align: right;\">\n",
       "      <th></th>\n",
       "      <th>id</th>\n",
       "      <th>date</th>\n",
       "      <th>first_name</th>\n",
       "      <th>last_name</th>\n",
       "      <th>email</th>\n",
       "      <th>gender</th>\n",
       "      <th>ip_address</th>\n",
       "      <th>country</th>\n",
       "      <th>price_paid</th>\n",
       "      <th>tax</th>\n",
       "    </tr>\n",
       "  </thead>\n",
       "  <tbody>\n",
       "    <tr>\n",
       "      <th>10</th>\n",
       "      <td>11</td>\n",
       "      <td>03/11/2021</td>\n",
       "      <td>Lief</td>\n",
       "      <td>Woodcraft</td>\n",
       "      <td>lwoodcrafta@sitemeter.com</td>\n",
       "      <td>Male</td>\n",
       "      <td>201.76.240.51</td>\n",
       "      <td>Canada</td>\n",
       "      <td>$5.71</td>\n",
       "      <td>NaN</td>\n",
       "    </tr>\n",
       "    <tr>\n",
       "      <th>11</th>\n",
       "      <td>12</td>\n",
       "      <td>03/16/2021</td>\n",
       "      <td>Bailie</td>\n",
       "      <td>Wyman</td>\n",
       "      <td>bwymanb@lulu.com</td>\n",
       "      <td>Male</td>\n",
       "      <td>222.60.138.222</td>\n",
       "      <td>United States</td>\n",
       "      <td>$3.15</td>\n",
       "      <td>20.0</td>\n",
       "    </tr>\n",
       "    <tr>\n",
       "      <th>12</th>\n",
       "      <td>13</td>\n",
       "      <td>03/05/2021</td>\n",
       "      <td>Janice</td>\n",
       "      <td>Morillas</td>\n",
       "      <td>jmorillasc@miibeian.gov.cn</td>\n",
       "      <td>Female</td>\n",
       "      <td>24.25.198.252</td>\n",
       "      <td>Canada</td>\n",
       "      <td>$5.30</td>\n",
       "      <td>20.0</td>\n",
       "    </tr>\n",
       "    <tr>\n",
       "      <th>13</th>\n",
       "      <td>14</td>\n",
       "      <td>03/24/2021</td>\n",
       "      <td>Cull</td>\n",
       "      <td>Vassie</td>\n",
       "      <td>cvassied@unblog.fr</td>\n",
       "      <td>NaN</td>\n",
       "      <td>18.203.61.94</td>\n",
       "      <td>France</td>\n",
       "      <td>$5.97</td>\n",
       "      <td>20.0</td>\n",
       "    </tr>\n",
       "  </tbody>\n",
       "</table>\n",
       "</div>"
      ],
      "text/plain": [
       "    id        date first_name  last_name                       email  gender  \\\n",
       "10  11  03/11/2021       Lief  Woodcraft   lwoodcrafta@sitemeter.com    Male   \n",
       "11  12  03/16/2021     Bailie      Wyman            bwymanb@lulu.com    Male   \n",
       "12  13  03/05/2021     Janice   Morillas  jmorillasc@miibeian.gov.cn  Female   \n",
       "13  14  03/24/2021       Cull     Vassie          cvassied@unblog.fr     NaN   \n",
       "\n",
       "        ip_address        country price_paid   tax  \n",
       "10   201.76.240.51         Canada      $5.71   NaN  \n",
       "11  222.60.138.222  United States      $3.15  20.0  \n",
       "12   24.25.198.252         Canada      $5.30  20.0  \n",
       "13    18.203.61.94         France      $5.97  20.0  "
      ]
     },
     "execution_count": 9,
     "metadata": {},
     "output_type": "execute_result"
    }
   ],
   "source": [
    "# ou bien avec la variable loc, là on voit bien la dernière valeur inclue\n",
    "df.loc[10:13]"
   ]
  },
  {
   "cell_type": "code",
   "execution_count": 13,
   "id": "c3adf28b-b2f9-49e8-b0ce-004f010c5105",
   "metadata": {},
   "outputs": [
    {
     "data": {
      "text/html": [
       "<div>\n",
       "<style scoped>\n",
       "    .dataframe tbody tr th:only-of-type {\n",
       "        vertical-align: middle;\n",
       "    }\n",
       "\n",
       "    .dataframe tbody tr th {\n",
       "        vertical-align: top;\n",
       "    }\n",
       "\n",
       "    .dataframe thead th {\n",
       "        text-align: right;\n",
       "    }\n",
       "</style>\n",
       "<table border=\"1\" class=\"dataframe\">\n",
       "  <thead>\n",
       "    <tr style=\"text-align: right;\">\n",
       "      <th></th>\n",
       "      <th>id</th>\n",
       "      <th>date</th>\n",
       "      <th>first_name</th>\n",
       "      <th>last_name</th>\n",
       "      <th>gender</th>\n",
       "      <th>ip_address</th>\n",
       "      <th>country</th>\n",
       "      <th>price_paid</th>\n",
       "      <th>tax</th>\n",
       "    </tr>\n",
       "    <tr>\n",
       "      <th>email</th>\n",
       "      <th></th>\n",
       "      <th></th>\n",
       "      <th></th>\n",
       "      <th></th>\n",
       "      <th></th>\n",
       "      <th></th>\n",
       "      <th></th>\n",
       "      <th></th>\n",
       "      <th></th>\n",
       "    </tr>\n",
       "  </thead>\n",
       "  <tbody>\n",
       "    <tr>\n",
       "      <th>malders0@shop-pro.jp</th>\n",
       "      <td>1</td>\n",
       "      <td>03/28/2021</td>\n",
       "      <td>Marylin</td>\n",
       "      <td>Alders</td>\n",
       "      <td>Male</td>\n",
       "      <td>160.119.8.119</td>\n",
       "      <td>Canada</td>\n",
       "      <td>$5.36</td>\n",
       "      <td>NaN</td>\n",
       "    </tr>\n",
       "    <tr>\n",
       "      <th>hharridge1@gnu.org</th>\n",
       "      <td>2</td>\n",
       "      <td>03/19/2021</td>\n",
       "      <td>Hinda</td>\n",
       "      <td>Harridge</td>\n",
       "      <td>Female</td>\n",
       "      <td>210.51.172.132</td>\n",
       "      <td>Canada</td>\n",
       "      <td>$8.32</td>\n",
       "      <td>NaN</td>\n",
       "    </tr>\n",
       "    <tr>\n",
       "      <th>ekilminster2@etsy.com</th>\n",
       "      <td>3</td>\n",
       "      <td>03/17/2021</td>\n",
       "      <td>Erl</td>\n",
       "      <td>Kilminster</td>\n",
       "      <td>Male</td>\n",
       "      <td>213.8.101.145</td>\n",
       "      <td>United States</td>\n",
       "      <td>$3.73</td>\n",
       "      <td>20.0</td>\n",
       "    </tr>\n",
       "    <tr>\n",
       "      <th>gbrantl3@umn.edu</th>\n",
       "      <td>4</td>\n",
       "      <td>03/19/2021</td>\n",
       "      <td>Grata</td>\n",
       "      <td>Brantl</td>\n",
       "      <td>Female</td>\n",
       "      <td>5.140.237.101</td>\n",
       "      <td>United States</td>\n",
       "      <td>$3.70</td>\n",
       "      <td>20.0</td>\n",
       "    </tr>\n",
       "    <tr>\n",
       "      <th>kbeasant4@jigsy.com</th>\n",
       "      <td>5</td>\n",
       "      <td>03/24/2021</td>\n",
       "      <td>Kanya</td>\n",
       "      <td>Beasant</td>\n",
       "      <td>Male</td>\n",
       "      <td>106.252.162.233</td>\n",
       "      <td>Morocco</td>\n",
       "      <td>$9.24</td>\n",
       "      <td>20.0</td>\n",
       "    </tr>\n",
       "  </tbody>\n",
       "</table>\n",
       "</div>"
      ],
      "text/plain": [
       "                       id        date first_name   last_name  gender  \\\n",
       "email                                                                  \n",
       "malders0@shop-pro.jp    1  03/28/2021    Marylin      Alders    Male   \n",
       "hharridge1@gnu.org      2  03/19/2021      Hinda    Harridge  Female   \n",
       "ekilminster2@etsy.com   3  03/17/2021        Erl  Kilminster    Male   \n",
       "gbrantl3@umn.edu        4  03/19/2021      Grata      Brantl  Female   \n",
       "kbeasant4@jigsy.com     5  03/24/2021      Kanya     Beasant    Male   \n",
       "\n",
       "                            ip_address        country price_paid   tax  \n",
       "email                                                                   \n",
       "malders0@shop-pro.jp     160.119.8.119         Canada      $5.36   NaN  \n",
       "hharridge1@gnu.org      210.51.172.132         Canada      $8.32   NaN  \n",
       "ekilminster2@etsy.com    213.8.101.145  United States      $3.73  20.0  \n",
       "gbrantl3@umn.edu         5.140.237.101  United States      $3.70  20.0  \n",
       "kbeasant4@jigsy.com    106.252.162.233        Morocco      $9.24  20.0  "
      ]
     },
     "execution_count": 13,
     "metadata": {},
     "output_type": "execute_result"
    }
   ],
   "source": [
    "# ceci est different lorsque l'index est une chaine de caractère.Par exemple\n",
    "df_email = df.set_index(\"email\")\n",
    "df_email.head()"
   ]
  },
  {
   "cell_type": "code",
   "execution_count": 14,
   "id": "d2fa09f9-0efd-4177-be0f-b03d80d88694",
   "metadata": {},
   "outputs": [
    {
     "data": {
      "text/plain": [
       "id                         2\n",
       "date              03/19/2021\n",
       "first_name             Hinda\n",
       "last_name           Harridge\n",
       "gender                Female\n",
       "ip_address    210.51.172.132\n",
       "country               Canada\n",
       "price_paid             $8.32\n",
       "tax                      NaN\n",
       "Name: hharridge1@gnu.org, dtype: object"
      ]
     },
     "execution_count": 14,
     "metadata": {},
     "output_type": "execute_result"
    }
   ],
   "source": [
    "df_email.loc['hharridge1@gnu.org']"
   ]
  },
  {
   "cell_type": "code",
   "execution_count": 15,
   "id": "cba59263-ea63-4ad6-baeb-d34ce651546e",
   "metadata": {},
   "outputs": [
    {
     "data": {
      "text/plain": [
       "pandas.core.series.Series"
      ]
     },
     "execution_count": 15,
     "metadata": {},
     "output_type": "execute_result"
    }
   ],
   "source": [
    "type(df_email.loc['hharridge1@gnu.org'])"
   ]
  },
  {
   "cell_type": "code",
   "execution_count": 18,
   "id": "452e9c4b-02e8-4bd6-b944-f3689df4d9bd",
   "metadata": {},
   "outputs": [
    {
     "data": {
      "text/plain": [
       "array([2, '03/19/2021', 'Hinda', 'Harridge', 'Female', '210.51.172.132',\n",
       "       'Canada', '$8.32', nan], dtype=object)"
      ]
     },
     "execution_count": 18,
     "metadata": {},
     "output_type": "execute_result"
    }
   ],
   "source": [
    "# pour recuperer que les valeurs se trouvant dans cette variable, on fait tout simplement\n",
    "df_email.loc['hharridge1@gnu.org'].values\n"
   ]
  },
  {
   "cell_type": "code",
   "execution_count": 19,
   "id": "70a767b0-dc5b-4246-8843-cab045d4c265",
   "metadata": {},
   "outputs": [
    {
     "data": {
      "text/plain": [
       "[2,\n",
       " '03/19/2021',\n",
       " 'Hinda',\n",
       " 'Harridge',\n",
       " 'Female',\n",
       " '210.51.172.132',\n",
       " 'Canada',\n",
       " '$8.32',\n",
       " nan]"
      ]
     },
     "execution_count": 19,
     "metadata": {},
     "output_type": "execute_result"
    }
   ],
   "source": [
    "# ou tolist pour l'obtenir en liste python\n",
    "df_email.loc['hharridge1@gnu.org'].values.tolist()"
   ]
  },
  {
   "cell_type": "code",
   "execution_count": 21,
   "id": "b6e822c2-3602-4f79-85e6-52a903b29745",
   "metadata": {},
   "outputs": [
    {
     "data": {
      "text/html": [
       "<div>\n",
       "<style scoped>\n",
       "    .dataframe tbody tr th:only-of-type {\n",
       "        vertical-align: middle;\n",
       "    }\n",
       "\n",
       "    .dataframe tbody tr th {\n",
       "        vertical-align: top;\n",
       "    }\n",
       "\n",
       "    .dataframe thead th {\n",
       "        text-align: right;\n",
       "    }\n",
       "</style>\n",
       "<table border=\"1\" class=\"dataframe\">\n",
       "  <thead>\n",
       "    <tr style=\"text-align: right;\">\n",
       "      <th></th>\n",
       "      <th>id</th>\n",
       "      <th>date</th>\n",
       "      <th>first_name</th>\n",
       "      <th>last_name</th>\n",
       "      <th>gender</th>\n",
       "      <th>ip_address</th>\n",
       "      <th>country</th>\n",
       "      <th>price_paid</th>\n",
       "      <th>tax</th>\n",
       "    </tr>\n",
       "    <tr>\n",
       "      <th>email</th>\n",
       "      <th></th>\n",
       "      <th></th>\n",
       "      <th></th>\n",
       "      <th></th>\n",
       "      <th></th>\n",
       "      <th></th>\n",
       "      <th></th>\n",
       "      <th></th>\n",
       "      <th></th>\n",
       "    </tr>\n",
       "  </thead>\n",
       "  <tbody>\n",
       "    <tr>\n",
       "      <th>ekilminster2@etsy.com</th>\n",
       "      <td>3</td>\n",
       "      <td>03/17/2021</td>\n",
       "      <td>Erl</td>\n",
       "      <td>Kilminster</td>\n",
       "      <td>Male</td>\n",
       "      <td>213.8.101.145</td>\n",
       "      <td>United States</td>\n",
       "      <td>$3.73</td>\n",
       "      <td>20.0</td>\n",
       "    </tr>\n",
       "    <tr>\n",
       "      <th>hharridge1@gnu.org</th>\n",
       "      <td>2</td>\n",
       "      <td>03/19/2021</td>\n",
       "      <td>Hinda</td>\n",
       "      <td>Harridge</td>\n",
       "      <td>Female</td>\n",
       "      <td>210.51.172.132</td>\n",
       "      <td>Canada</td>\n",
       "      <td>$8.32</td>\n",
       "      <td>NaN</td>\n",
       "    </tr>\n",
       "  </tbody>\n",
       "</table>\n",
       "</div>"
      ],
      "text/plain": [
       "                       id        date first_name   last_name  gender  \\\n",
       "email                                                                  \n",
       "ekilminster2@etsy.com   3  03/17/2021        Erl  Kilminster    Male   \n",
       "hharridge1@gnu.org      2  03/19/2021      Hinda    Harridge  Female   \n",
       "\n",
       "                           ip_address        country price_paid   tax  \n",
       "email                                                                  \n",
       "ekilminster2@etsy.com   213.8.101.145  United States      $3.73  20.0  \n",
       "hharridge1@gnu.org     210.51.172.132         Canada      $8.32   NaN  "
      ]
     },
     "execution_count": 21,
     "metadata": {},
     "output_type": "execute_result"
    }
   ],
   "source": [
    "df_email.loc[['ekilminster2@etsy.com','hharridge1@gnu.org']]\n"
   ]
  },
  {
   "cell_type": "code",
   "execution_count": 22,
   "id": "ca5ea1da-8a1d-47f2-b597-473d514df773",
   "metadata": {},
   "outputs": [
    {
     "data": {
      "text/plain": [
       "pandas.core.frame.DataFrame"
      ]
     },
     "execution_count": 22,
     "metadata": {},
     "output_type": "execute_result"
    }
   ],
   "source": [
    "type(df_email.loc[['ekilminster2@etsy.com','hharridge1@gnu.org']]) # type dataframe"
   ]
  },
  {
   "cell_type": "code",
   "execution_count": null,
   "id": "f4a44288-a64e-4aba-b706-6f954eb2c2a7",
   "metadata": {},
   "outputs": [],
   "source": []
  }
 ],
 "metadata": {
  "kernelspec": {
   "display_name": "Python 3",
   "language": "python",
   "name": "python3"
  },
  "language_info": {
   "codemirror_mode": {
    "name": "ipython",
    "version": 3
   },
   "file_extension": ".py",
   "mimetype": "text/x-python",
   "name": "python",
   "nbconvert_exporter": "python",
   "pygments_lexer": "ipython3",
   "version": "3.8.8"
  }
 },
 "nbformat": 4,
 "nbformat_minor": 5
}
