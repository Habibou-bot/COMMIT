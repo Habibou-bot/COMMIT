{
 "cells": [
  {
   "cell_type": "code",
   "execution_count": 1,
   "id": "e2415a59-205e-4d2c-b4d4-07cc2b8f5b4f",
   "metadata": {},
   "outputs": [],
   "source": [
    "import pandas as pd\n",
    "df = pd.read_csv(\"data.csv\")"
   ]
  },
  {
   "cell_type": "code",
   "execution_count": 2,
   "id": "fb14cf27-adc4-47d9-b0db-4ccc0762a85f",
   "metadata": {},
   "outputs": [
    {
     "data": {
      "text/html": [
       "<div>\n",
       "<style scoped>\n",
       "    .dataframe tbody tr th:only-of-type {\n",
       "        vertical-align: middle;\n",
       "    }\n",
       "\n",
       "    .dataframe tbody tr th {\n",
       "        vertical-align: top;\n",
       "    }\n",
       "\n",
       "    .dataframe thead th {\n",
       "        text-align: right;\n",
       "    }\n",
       "</style>\n",
       "<table border=\"1\" class=\"dataframe\">\n",
       "  <thead>\n",
       "    <tr style=\"text-align: right;\">\n",
       "      <th></th>\n",
       "      <th>id</th>\n",
       "      <th>tax</th>\n",
       "    </tr>\n",
       "  </thead>\n",
       "  <tbody>\n",
       "    <tr>\n",
       "      <th>count</th>\n",
       "      <td>1000.000000</td>\n",
       "      <td>654.0</td>\n",
       "    </tr>\n",
       "    <tr>\n",
       "      <th>mean</th>\n",
       "      <td>500.500000</td>\n",
       "      <td>20.0</td>\n",
       "    </tr>\n",
       "    <tr>\n",
       "      <th>std</th>\n",
       "      <td>288.819436</td>\n",
       "      <td>0.0</td>\n",
       "    </tr>\n",
       "    <tr>\n",
       "      <th>min</th>\n",
       "      <td>1.000000</td>\n",
       "      <td>20.0</td>\n",
       "    </tr>\n",
       "    <tr>\n",
       "      <th>25%</th>\n",
       "      <td>250.750000</td>\n",
       "      <td>20.0</td>\n",
       "    </tr>\n",
       "    <tr>\n",
       "      <th>50%</th>\n",
       "      <td>500.500000</td>\n",
       "      <td>20.0</td>\n",
       "    </tr>\n",
       "    <tr>\n",
       "      <th>75%</th>\n",
       "      <td>750.250000</td>\n",
       "      <td>20.0</td>\n",
       "    </tr>\n",
       "    <tr>\n",
       "      <th>max</th>\n",
       "      <td>1000.000000</td>\n",
       "      <td>20.0</td>\n",
       "    </tr>\n",
       "  </tbody>\n",
       "</table>\n",
       "</div>"
      ],
      "text/plain": [
       "                id    tax\n",
       "count  1000.000000  654.0\n",
       "mean    500.500000   20.0\n",
       "std     288.819436    0.0\n",
       "min       1.000000   20.0\n",
       "25%     250.750000   20.0\n",
       "50%     500.500000   20.0\n",
       "75%     750.250000   20.0\n",
       "max    1000.000000   20.0"
      ]
     },
     "execution_count": 2,
     "metadata": {},
     "output_type": "execute_result"
    }
   ],
   "source": [
    "# on voit bien pour cette variable que c'est pas toutes les valeurs qui contiennent des donnees \n",
    "df.describe()"
   ]
  },
  {
   "cell_type": "code",
   "execution_count": 3,
   "id": "577e89f4-4158-43eb-a399-552be1fb2c77",
   "metadata": {},
   "outputs": [
    {
     "data": {
      "text/plain": [
       "count      1000\n",
       "unique      528\n",
       "top       $3.73\n",
       "freq          8\n",
       "Name: price_paid, dtype: object"
      ]
     },
     "execution_count": 3,
     "metadata": {},
     "output_type": "execute_result"
    }
   ],
   "source": [
    "# on voit pour cette variable la totalité des donnees\n",
    "df[\"price_paid\"].describe()"
   ]
  },
  {
   "cell_type": "code",
   "execution_count": 4,
   "id": "5caae754-7db7-487e-88c5-1c373e47b5fc",
   "metadata": {},
   "outputs": [],
   "source": [
    "# pour voir la moyenne des prix payés\n",
    "df.price_paid = df.price_paid.apply(lambda x: x.replace(\"$\", \"\")) # pour retirer les $ dans la colonne price_paid\n",
    "df.price_paid = df.price_paid.astype(float) # pour convertir le type de la variable price_paid en float"
   ]
  },
  {
   "cell_type": "code",
   "execution_count": 5,
   "id": "7808a3fe-6bfa-44f6-b7bf-91c676311356",
   "metadata": {},
   "outputs": [
    {
     "data": {
      "text/plain": [
       "6.4619299999999935"
      ]
     },
     "execution_count": 5,
     "metadata": {},
     "output_type": "execute_result"
    }
   ],
   "source": [
    "df[\"price_paid\"].mean()"
   ]
  },
  {
   "cell_type": "code",
   "execution_count": 6,
   "id": "3b511e4e-fe8c-498d-8278-b3d6c2386b24",
   "metadata": {},
   "outputs": [
    {
     "data": {
      "text/plain": [
       "6461.93"
      ]
     },
     "execution_count": 6,
     "metadata": {},
     "output_type": "execute_result"
    }
   ],
   "source": [
    "# pour afficher la somme\n",
    "df[\"price_paid\"].sum()"
   ]
  },
  {
   "cell_type": "code",
   "execution_count": 7,
   "id": "cf56a5b5-835f-4caf-aa48-fb7587448672",
   "metadata": {},
   "outputs": [
    {
     "data": {
      "text/plain": [
       "3.0"
      ]
     },
     "execution_count": 7,
     "metadata": {},
     "output_type": "execute_result"
    }
   ],
   "source": [
    "# pour afficher le prix minimal qui a été payé\n",
    "df[\"price_paid\"].min()"
   ]
  },
  {
   "cell_type": "code",
   "execution_count": 8,
   "id": "e5ce4aaa-6cd4-4167-a92f-929dbdc7a495",
   "metadata": {},
   "outputs": [
    {
     "data": {
      "text/plain": [
       "10.0"
      ]
     },
     "execution_count": 8,
     "metadata": {},
     "output_type": "execute_result"
    }
   ],
   "source": [
    "# pour afficher le prix maximal qui a été payé\n",
    "df[\"price_paid\"].max()"
   ]
  },
  {
   "cell_type": "code",
   "execution_count": 9,
   "id": "61f949dc-c9a7-4f13-97cd-162a533bb7a6",
   "metadata": {},
   "outputs": [
    {
     "data": {
      "text/plain": [
       "array(['Canada', 'United States', 'Morocco', 'France', nan], dtype=object)"
      ]
     },
     "execution_count": 9,
     "metadata": {},
     "output_type": "execute_result"
    }
   ],
   "source": [
    "# pour afficer les valeurs unique dans une colonne\n",
    "df[\"country\"].unique()"
   ]
  },
  {
   "cell_type": "code",
   "execution_count": 10,
   "id": "56033ce5-b085-49b3-a8d9-970ae15577b0",
   "metadata": {},
   "outputs": [
    {
     "data": {
      "text/plain": [
       "array([ 5.36,  8.32,  3.73,  3.7 ,  9.24,  5.82,  6.29,  3.01,  9.05,\n",
       "        5.71,  3.15,  5.3 ,  5.97,  4.53,  4.1 ,  6.44,  3.16,  4.9 ,\n",
       "        5.55,  4.86,  6.72,  9.79,  8.23,  9.9 ,  5.88,  3.06,  9.52,\n",
       "        6.76,  7.81,  6.02,  5.  ,  5.34,  4.67,  6.22,  3.37,  9.5 ,\n",
       "        4.54,  4.04,  3.45,  4.96,  5.29,  8.11,  7.8 ,  4.21,  9.81,\n",
       "        9.7 ,  9.71,  3.88,  3.4 ,  9.23,  6.57,  9.99,  6.94,  4.26,\n",
       "        9.13,  6.66,  9.35,  3.04,  6.17,  7.68,  4.23,  4.69,  7.56,\n",
       "        5.92,  4.65,  6.79,  8.71,  8.96,  4.39,  7.54,  5.83,  6.39,\n",
       "        9.6 ,  9.68,  9.86,  5.53,  3.51,  8.43,  6.89,  6.68,  4.66,\n",
       "        4.95,  6.77,  7.48,  7.23,  8.12,  5.8 ,  6.06,  4.71,  7.78,\n",
       "        9.67,  9.93,  4.56,  4.42,  4.12,  4.32,  8.83,  3.18,  8.86,\n",
       "        7.2 ,  3.72,  7.67,  8.68,  9.58,  7.91,  7.65,  8.77,  7.17,\n",
       "        9.47,  8.97,  6.07,  9.89,  8.85,  9.37,  7.03,  5.9 ,  4.  ,\n",
       "        6.88,  8.75,  3.03,  6.64,  8.65,  5.98,  8.69,  4.46,  4.24,\n",
       "        8.79,  4.82,  8.16,  7.19,  5.87,  7.05,  3.93,  5.33,  6.09,\n",
       "        5.72,  3.12,  8.45,  6.86,  4.74,  7.98,  8.7 ,  4.57,  4.38,\n",
       "        6.8 ,  6.53,  7.27,  7.75,  3.95, 10.  ,  6.96,  6.58,  5.56,\n",
       "        6.31,  5.49,  6.71,  6.93,  4.92,  9.02,  5.91,  9.27,  4.97,\n",
       "        7.02,  3.1 ,  4.25,  6.16,  4.47,  6.73,  9.32,  7.41,  9.51,\n",
       "        8.88,  5.47,  4.2 ,  9.38,  7.44,  9.1 ,  6.24,  4.43,  3.21,\n",
       "        8.82,  5.68,  6.14,  7.32,  8.62,  5.75,  3.96,  8.21,  3.52,\n",
       "        8.22,  9.45,  7.82,  3.05,  4.61,  7.83,  7.88,  4.48,  4.4 ,\n",
       "        8.37,  6.21,  9.16,  3.34,  8.24,  3.23,  9.3 ,  7.62,  8.74,\n",
       "        8.63,  3.78,  8.15,  3.87,  9.33,  8.02,  8.61,  3.17,  9.83,\n",
       "        4.44,  3.29,  6.11,  4.93,  6.05,  5.63,  9.98,  5.84,  8.19,\n",
       "        3.81,  5.86,  8.84,  3.33,  8.89,  8.34,  6.47,  8.66,  9.57,\n",
       "        3.48,  7.71,  8.27,  3.63,  8.28,  7.04,  3.84,  5.21,  8.33,\n",
       "        9.12,  3.09,  9.19,  8.25,  9.92,  3.79,  8.31,  9.43,  7.72,\n",
       "        3.44,  4.18,  7.12,  7.13,  4.84,  7.3 ,  7.89,  9.04,  4.03,\n",
       "        4.98,  6.7 ,  4.34,  6.32,  5.06,  9.31,  4.3 ,  3.56,  8.41,\n",
       "        6.49,  7.18,  6.75,  4.72,  3.68,  3.6 ,  9.85,  9.88,  6.46,\n",
       "        7.93,  3.53,  7.79,  4.16,  5.54,  5.35,  4.91,  6.5 ,  6.84,\n",
       "        8.17,  3.27,  5.27,  5.62,  3.66,  9.4 ,  5.66,  9.96,  4.76,\n",
       "        6.34,  8.64,  5.65,  5.08,  5.5 ,  6.6 ,  5.45,  8.95,  3.08,\n",
       "        9.97,  7.38,  6.98,  6.37,  4.31,  5.16,  7.9 ,  9.2 ,  8.01,\n",
       "        7.31,  7.66,  8.46,  3.14,  6.35,  3.2 ,  8.08,  7.28,  5.57,\n",
       "        3.49,  9.18,  7.22,  9.06,  6.55,  5.79,  3.25,  7.99,  8.18,\n",
       "        5.15,  6.23,  9.36,  5.05,  3.57,  9.21,  7.52,  3.28,  8.54,\n",
       "        3.8 ,  4.51,  9.75,  7.14,  8.4 ,  7.08,  8.49,  3.02,  6.27,\n",
       "        7.36,  4.01,  6.91,  8.38,  4.78,  8.94,  8.35,  7.96,  7.85,\n",
       "        8.1 ,  6.52,  6.2 ,  4.83,  9.08,  5.32,  7.16,  3.38,  5.61,\n",
       "        8.8 ,  4.22,  9.82,  9.29,  5.48,  5.24,  7.5 ,  7.95,  3.98,\n",
       "        3.74,  4.87,  3.86,  4.17,  3.36,  5.6 ,  6.51,  4.55,  4.36,\n",
       "        7.45,  8.55,  3.77,  3.46,  8.92,  6.4 ,  3.92,  5.1 ,  9.42,\n",
       "        9.09,  5.81,  6.43,  6.48,  6.12,  6.18,  3.31,  8.6 ,  6.85,\n",
       "        4.02,  3.35,  8.42,  5.89,  9.72,  3.61,  7.39,  9.84,  3.22,\n",
       "        4.35,  4.62,  4.49,  4.5 ,  8.72,  6.63,  4.7 ,  6.59,  3.75,\n",
       "        5.2 ,  3.59,  7.09,  5.78,  5.26,  6.62,  4.88,  5.4 ,  3.94,\n",
       "        6.99,  3.91,  3.54,  9.53,  9.65,  3.89,  9.77,  5.25,  3.58,\n",
       "        9.62,  3.69,  4.85,  3.55,  5.09,  4.13,  3.  ,  3.41,  5.69,\n",
       "        4.79,  9.95,  5.76,  6.87,  8.44,  6.19,  7.76,  9.63,  7.43,\n",
       "        4.68,  5.73,  5.42,  7.25,  9.11,  5.44,  5.7 ,  9.8 ,  5.03,\n",
       "        6.81,  5.18,  7.34,  4.05,  4.27,  5.37,  8.9 ,  7.51,  8.48,\n",
       "        3.9 ,  9.26,  3.11,  5.19,  5.51,  8.99,  4.07,  9.01,  8.53,\n",
       "        6.67,  6.56,  6.92,  9.15,  5.67,  5.96,  8.09,  5.11,  7.4 ,\n",
       "        7.33,  5.43,  6.3 ,  5.28,  5.02,  5.93,  9.78,  9.28,  3.5 ,\n",
       "        9.22,  6.15,  9.69,  7.97,  5.94,  9.76,  3.83,  4.73,  6.95,\n",
       "        3.32,  9.03,  4.64,  7.59,  3.3 ,  7.37,  6.13,  7.7 ,  3.07,\n",
       "        6.69,  3.71,  9.55,  4.33,  6.1 ,  4.59])"
      ]
     },
     "execution_count": 10,
     "metadata": {},
     "output_type": "execute_result"
    }
   ],
   "source": [
    "df[\"price_paid\"].unique()"
   ]
  },
  {
   "cell_type": "code",
   "execution_count": 11,
   "id": "779a35d8-28f6-445e-bcb2-ceb621fff266",
   "metadata": {},
   "outputs": [
    {
     "data": {
      "text/plain": [
       "France           408\n",
       "United States    333\n",
       "Canada           161\n",
       "Morocco           54\n",
       "Name: country, dtype: int64"
      ]
     },
     "execution_count": 11,
     "metadata": {},
     "output_type": "execute_result"
    }
   ],
   "source": [
    "# une autre methode d'affichage des valeurs\n",
    "df[\"country\"].value_counts()\n",
    "# on voit ici qu'on a plus de clients en France"
   ]
  },
  {
   "cell_type": "code",
   "execution_count": 12,
   "id": "599e8c10-848a-4a54-bbfd-d64dc4ba5f79",
   "metadata": {},
   "outputs": [
    {
     "data": {
      "text/plain": [
       "Female    493\n",
       "Male      438\n",
       "Name: gender, dtype: int64"
      ]
     },
     "execution_count": 12,
     "metadata": {},
     "output_type": "execute_result"
    }
   ],
   "source": [
    "# pour voir combien dez clients qu'on en fonction du sexe\n",
    "df[\"gender\"].value_counts()\n",
    "# on voit ici qu'on a plus de clients femme"
   ]
  },
  {
   "cell_type": "code",
   "execution_count": 13,
   "id": "f1397e72-f397-4f7c-bdb5-ec113033f34d",
   "metadata": {},
   "outputs": [
    {
     "data": {
      "text/plain": [
       "Female    0.529538\n",
       "Male      0.470462\n",
       "Name: gender, dtype: float64"
      ]
     },
     "execution_count": 13,
     "metadata": {},
     "output_type": "execute_result"
    }
   ],
   "source": [
    "# en terme de pourcentage\n",
    "df[\"gender\"].value_counts(normalize = True)"
   ]
  },
  {
   "cell_type": "code",
   "execution_count": 14,
   "id": "5b316323-fade-4fb3-ac4d-4e8d9c0c9674",
   "metadata": {},
   "outputs": [
    {
     "data": {
      "text/html": [
       "<div>\n",
       "<style scoped>\n",
       "    .dataframe tbody tr th:only-of-type {\n",
       "        vertical-align: middle;\n",
       "    }\n",
       "\n",
       "    .dataframe tbody tr th {\n",
       "        vertical-align: top;\n",
       "    }\n",
       "\n",
       "    .dataframe thead th {\n",
       "        text-align: right;\n",
       "    }\n",
       "</style>\n",
       "<table border=\"1\" class=\"dataframe\">\n",
       "  <thead>\n",
       "    <tr style=\"text-align: right;\">\n",
       "      <th></th>\n",
       "      <th>id</th>\n",
       "      <th>price_paid</th>\n",
       "      <th>tax</th>\n",
       "    </tr>\n",
       "    <tr>\n",
       "      <th>country</th>\n",
       "      <th></th>\n",
       "      <th></th>\n",
       "      <th></th>\n",
       "    </tr>\n",
       "  </thead>\n",
       "  <tbody>\n",
       "    <tr>\n",
       "      <th>Canada</th>\n",
       "      <td>437.049689</td>\n",
       "      <td>6.319565</td>\n",
       "      <td>20.0</td>\n",
       "    </tr>\n",
       "    <tr>\n",
       "      <th>France</th>\n",
       "      <td>525.588235</td>\n",
       "      <td>6.420613</td>\n",
       "      <td>20.0</td>\n",
       "    </tr>\n",
       "    <tr>\n",
       "      <th>Morocco</th>\n",
       "      <td>492.425926</td>\n",
       "      <td>6.721667</td>\n",
       "      <td>20.0</td>\n",
       "    </tr>\n",
       "    <tr>\n",
       "      <th>United States</th>\n",
       "      <td>504.954955</td>\n",
       "      <td>6.557568</td>\n",
       "      <td>20.0</td>\n",
       "    </tr>\n",
       "  </tbody>\n",
       "</table>\n",
       "</div>"
      ],
      "text/plain": [
       "                       id  price_paid   tax\n",
       "country                                    \n",
       "Canada         437.049689    6.319565  20.0\n",
       "France         525.588235    6.420613  20.0\n",
       "Morocco        492.425926    6.721667  20.0\n",
       "United States  504.954955    6.557568  20.0"
      ]
     },
     "execution_count": 14,
     "metadata": {},
     "output_type": "execute_result"
    }
   ],
   "source": [
    "# la methode groupby\n",
    "df.groupby(\"country\").mean()\n",
    "# on voit bien le pays ou l'on le prix moyen le plus c'est le Maroc et le moins c'est le Canada"
   ]
  },
  {
   "cell_type": "code",
   "execution_count": 15,
   "id": "7a67b77d-b137-4d90-9193-31207c76b821",
   "metadata": {},
   "outputs": [
    {
     "data": {
      "text/plain": [
       "gender\n",
       "Female    3165.26\n",
       "Male      2833.61\n",
       "Name: price_paid, dtype: float64"
      ]
     },
     "execution_count": 15,
     "metadata": {},
     "output_type": "execute_result"
    }
   ],
   "source": [
    "# on voit bien que les femmes ont payées le plus\n",
    "df.groupby(\"gender\")[\"price_paid\"].sum()"
   ]
  },
  {
   "cell_type": "code",
   "execution_count": 16,
   "id": "7dbc08d8-eae8-4eed-8d66-84f487c5d761",
   "metadata": {},
   "outputs": [
    {
     "data": {
      "text/html": [
       "<div>\n",
       "<style scoped>\n",
       "    .dataframe tbody tr th:only-of-type {\n",
       "        vertical-align: middle;\n",
       "    }\n",
       "\n",
       "    .dataframe tbody tr th {\n",
       "        vertical-align: top;\n",
       "    }\n",
       "\n",
       "    .dataframe thead th {\n",
       "        text-align: right;\n",
       "    }\n",
       "</style>\n",
       "<table border=\"1\" class=\"dataframe\">\n",
       "  <thead>\n",
       "    <tr style=\"text-align: right;\">\n",
       "      <th></th>\n",
       "      <th></th>\n",
       "      <th>id</th>\n",
       "      <th>price_paid</th>\n",
       "      <th>tax</th>\n",
       "    </tr>\n",
       "    <tr>\n",
       "      <th>gender</th>\n",
       "      <th>country</th>\n",
       "      <th></th>\n",
       "      <th></th>\n",
       "      <th></th>\n",
       "    </tr>\n",
       "  </thead>\n",
       "  <tbody>\n",
       "    <tr>\n",
       "      <th rowspan=\"4\" valign=\"top\">Female</th>\n",
       "      <th>Canada</th>\n",
       "      <td>461.472973</td>\n",
       "      <td>6.419324</td>\n",
       "      <td>20.0</td>\n",
       "    </tr>\n",
       "    <tr>\n",
       "      <th>France</th>\n",
       "      <td>512.648241</td>\n",
       "      <td>6.350352</td>\n",
       "      <td>20.0</td>\n",
       "    </tr>\n",
       "    <tr>\n",
       "      <th>Morocco</th>\n",
       "      <td>479.925926</td>\n",
       "      <td>7.024815</td>\n",
       "      <td>20.0</td>\n",
       "    </tr>\n",
       "    <tr>\n",
       "      <th>United States</th>\n",
       "      <td>487.282353</td>\n",
       "      <td>6.437118</td>\n",
       "      <td>20.0</td>\n",
       "    </tr>\n",
       "    <tr>\n",
       "      <th rowspan=\"4\" valign=\"top\">Male</th>\n",
       "      <th>Canada</th>\n",
       "      <td>406.000000</td>\n",
       "      <td>6.117467</td>\n",
       "      <td>20.0</td>\n",
       "    </tr>\n",
       "    <tr>\n",
       "      <th>France</th>\n",
       "      <td>534.928177</td>\n",
       "      <td>6.498950</td>\n",
       "      <td>20.0</td>\n",
       "    </tr>\n",
       "    <tr>\n",
       "      <th>Morocco</th>\n",
       "      <td>483.652174</td>\n",
       "      <td>6.146957</td>\n",
       "      <td>20.0</td>\n",
       "    </tr>\n",
       "    <tr>\n",
       "      <th>United States</th>\n",
       "      <td>525.284722</td>\n",
       "      <td>6.672500</td>\n",
       "      <td>20.0</td>\n",
       "    </tr>\n",
       "  </tbody>\n",
       "</table>\n",
       "</div>"
      ],
      "text/plain": [
       "                              id  price_paid   tax\n",
       "gender country                                    \n",
       "Female Canada         461.472973    6.419324  20.0\n",
       "       France         512.648241    6.350352  20.0\n",
       "       Morocco        479.925926    7.024815  20.0\n",
       "       United States  487.282353    6.437118  20.0\n",
       "Male   Canada         406.000000    6.117467  20.0\n",
       "       France         534.928177    6.498950  20.0\n",
       "       Morocco        483.652174    6.146957  20.0\n",
       "       United States  525.284722    6.672500  20.0"
      ]
     },
     "execution_count": 16,
     "metadata": {},
     "output_type": "execute_result"
    }
   ],
   "source": [
    "df.groupby([\"gender\",\"country\"]).mean()"
   ]
  },
  {
   "cell_type": "code",
   "execution_count": 19,
   "id": "6de12161-98aa-4a0f-9668-5b3bf775c57a",
   "metadata": {},
   "outputs": [
    {
     "data": {
      "text/plain": [
       "<AxesSubplot:xlabel='date'>"
      ]
     },
     "execution_count": 19,
     "metadata": {},
     "output_type": "execute_result"
    },
    {
     "data": {
      "image/png": "[encoded data removed]",
      "text/plain": [
       "<Figure size 1440x720 with 1 Axes>"
      ]
     },
     "metadata": {
      "needs_background": "light"
     },
     "output_type": "display_data"
    }
   ],
   "source": [
    "df.groupby(\"date\")[\"price_paid\"].sum().plot(figsize=[20,10])"
   ]
  },
  {
   "cell_type": "code",
   "execution_count": 24,
   "id": "cb132b53-f5b8-4e0d-8baa-775140ffcb9d",
   "metadata": {},
   "outputs": [
    {
     "data": {
      "text/plain": [
       "<AxesSubplot:ylabel='price_paid'>"
      ]
     },
     "execution_count": 24,
     "metadata": {},
     "output_type": "execute_result"
    },
    {
     "data": {
      "image/png": "[encoded data removed]",
      "text/plain": [
       "<Figure size 504x504 with 1 Axes>"
      ]
     },
     "metadata": {},
     "output_type": "display_data"
    }
   ],
   "source": [
    "# D'autres graphiques\n",
    "# faire un figsize pour faire grossir le graphique\n",
    "# ici les femmes on plus payées que les hommes\n",
    "df.groupby(\"gender\")[\"price_paid\"].sum().plot.pie(legend=True, figsize=(7,7))"
   ]
  },
  {
   "cell_type": "code",
   "execution_count": 26,
   "id": "8431b977-059c-4764-b77d-a03113caaa2b",
   "metadata": {},
   "outputs": [
    {
     "data": {
      "text/plain": [
       "<AxesSubplot:xlabel='country'>"
      ]
     },
     "execution_count": 26,
     "metadata": {},
     "output_type": "execute_result"
    },
    {
     "data": {
      "image/png": "[encoded data removed]",
      "text/plain": [
       "<Figure size 432x288 with 1 Axes>"
      ]
     },
     "metadata": {
      "needs_background": "light"
     },
     "output_type": "display_data"
    }
   ],
   "source": [
    "# on voit bien que la france est le pays le plus important en terme de chiffre d'affaire et le maroc le moins important\n",
    "df.groupby(\"country\")[\"price_paid\"].sum().plot.bar(rot=45, legend=True)"
   ]
  },
  {
   "cell_type": "code",
   "execution_count": null,
   "id": "f39e947e-937a-4212-b205-51f1cab0e525",
   "metadata": {},
   "outputs": [],
   "source": []
  }
 ],
 "metadata": {
  "kernelspec": {
   "display_name": "Python 3",
   "language": "python",
   "name": "python3"
  },
  "language_info": {
   "codemirror_mode": {
    "name": "ipython",
    "version": 3
   },
   "file_extension": ".py",
   "mimetype": "text/x-python",
   "name": "python",
   "nbconvert_exporter": "python",
   "pygments_lexer": "ipython3",
   "version": "3.8.8"
  }
 },
 "nbformat": 4,
 "nbformat_minor": 5
}
