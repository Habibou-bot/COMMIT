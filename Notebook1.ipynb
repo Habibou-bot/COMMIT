{
 "cells": [
  {
   "cell_type": "code",
   "execution_count": 1,
   "id": "f2dc1e51-7049-46a5-ae8d-92bf6cb62653",
   "metadata": {},
   "outputs": [],
   "source": [
    "# la science des données c'est la rencontre entre 2 elements: le big data et l'analyse de ces données \n",
    "## la data science c'est analyser des données pour en tirer des conclusions\n",
    "## l'objectif de la data science est aussi d'automatiser ces données\n",
    "\n",
    "### On peut voir quelques exemples sur les données Netflix. on peut voir par exemple:\n",
    "#1) le pays avec la plus forte croissance en nombre d'utilisateur\n",
    "#2) En moyenne, combien de temps les utilisateurs restent-ils abonnées\n",
    "#3) Quels sont les genres de films les plus populaires\n",
    "#4) Quel est le pays dans lequel les utilisateurs dépensent le plus"
   ]
  },
  {
   "cell_type": "markdown",
   "id": "a27aa0ff-e3ac-461e-acd3-c4a864ad8811",
   "metadata": {},
   "source": [
    "# Projet data science via jupyterLab"
   ]
  },
  {
   "cell_type": "code",
   "execution_count": 2,
   "id": "42e8e42e-27a9-4355-abf4-ab91f4f5c1bd",
   "metadata": {},
   "outputs": [
    {
     "name": "stdout",
     "output_type": "stream",
     "text": [
      "Requirement already satisfied: pandas in c:\\users\\habib\\anaconda3\\lib\\site-packages (1.2.4)\n",
      "Requirement already satisfied: numpy>=1.16.5 in c:\\users\\habib\\anaconda3\\lib\\site-packages (from pandas) (1.20.1)\n",
      "Requirement already satisfied: pytz>=2017.3 in c:\\users\\habib\\anaconda3\\lib\\site-packages (from pandas) (2021.1)Note: you may need to restart the kernel to use updated packages.\n",
      "\n",
      "Requirement already satisfied: python-dateutil>=2.7.3 in c:\\users\\habib\\anaconda3\\lib\\site-packages (from pandas) (2.8.1)\n",
      "Requirement already satisfied: six>=1.5 in c:\\users\\habib\\anaconda3\\lib\\site-packages (from python-dateutil>=2.7.3->pandas) (1.15.0)\n"
     ]
    }
   ],
   "source": [
    "pip install pandas"
   ]
  },
  {
   "cell_type": "code",
   "execution_count": 3,
   "id": "7ea62d49-fa39-4009-9058-c2ecbc4d1ce4",
   "metadata": {},
   "outputs": [
    {
     "name": "stderr",
     "output_type": "stream",
     "text": [
      "Un sous-r‚pertoire ou un fichier projectdata existe d‚j….\n"
     ]
    }
   ],
   "source": [
    "mkdir projectdata"
   ]
  },
  {
   "cell_type": "code",
   "execution_count": 4,
   "id": "7929ce9a-5152-4df4-8222-11a5b5cced3d",
   "metadata": {},
   "outputs": [
    {
     "name": "stdout",
     "output_type": "stream",
     "text": [
      "C:\\Users\\habib\\projectdata\n"
     ]
    }
   ],
   "source": [
    "cd projectdata/"
   ]
  },
  {
   "cell_type": "code",
   "execution_count": 5,
   "id": "503a33c9-01f0-487c-822d-85b8699015c1",
   "metadata": {},
   "outputs": [],
   "source": [
    "# taper la commande \"jupyter-lab\" dans le terminal pour lancer jupyterlab\n",
    "import pandas"
   ]
  },
  {
   "cell_type": "code",
   "execution_count": 6,
   "id": "1174af7b-365e-43f7-a45c-b39f6289836c",
   "metadata": {},
   "outputs": [],
   "source": [
    "# 1) comment lire un fichier csv"
   ]
  },
  {
   "cell_type": "code",
   "execution_count": null,
   "id": "df299d66-30f4-40ee-9f16-09b7040318b3",
   "metadata": {},
   "outputs": [],
   "source": []
  }
 ],
 "metadata": {
  "kernelspec": {
   "display_name": "Python 3",
   "language": "python",
   "name": "python3"
  },
  "language_info": {
   "codemirror_mode": {
    "name": "ipython",
    "version": 3
   },
   "file_extension": ".py",
   "mimetype": "text/x-python",
   "name": "python",
   "nbconvert_exporter": "python",
   "pygments_lexer": "ipython3",
   "version": "3.8.8"
  }
 },
 "nbformat": 4,
 "nbformat_minor": 5
}
